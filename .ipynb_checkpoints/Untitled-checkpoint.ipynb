{
 "cells": [
  {
   "cell_type": "code",
   "execution_count": 1,
   "metadata": {},
   "outputs": [],
   "source": [
    "import torch\n",
    "from torch import nn\n",
    "from enum import Enum\n",
    "\n",
    "class Action(Enum):\n",
    "    F = 0  # move forward\n",
    "    B = 1  # move backward\n",
    "    L = 2  # turn left\n",
    "    R = 3  # turn right"
   ]
  },
  {
   "cell_type": "code",
   "execution_count": 4,
   "metadata": {},
   "outputs": [
    {
     "name": "stdout",
     "output_type": "stream",
     "text": [
      "torch.Size([1, 128])\n",
      "torch.Size([1, 4, 128])\n"
     ]
    }
   ],
   "source": [
    "state = torch.cat((torch.randn(126), torch.tensor([4.]), torch.tensor([2.]))).unsqueeze(0)\n",
    "print(state.size())\n",
    "state = torch.cat((state, state, state, state)).unsqueeze(0)\n",
    "print(state.size())"
   ]
  },
  {
   "cell_type": "code",
   "execution_count": 5,
   "metadata": {},
   "outputs": [
    {
     "name": "stdout",
     "output_type": "stream",
     "text": [
      "after relu1: torch.Size([1, 32, 31])\n",
      "after relu2: torch.Size([1, 64, 14])\n",
      "after relu3: torch.Size([1, 64, 12])\n",
      "after view: torch.Size([1, 768])\n",
      "after relu4: torch.Size([1, 128])\n",
      "after fc5: torch.Size([1, 4])\n"
     ]
    },
    {
     "data": {
      "text/plain": [
       "torch.Size([1, 4])"
      ]
     },
     "execution_count": 5,
     "metadata": {},
     "output_type": "execute_result"
    }
   ],
   "source": [
    "class NeuralNetwork(nn.Module):\n",
    "    def __init__(self):\n",
    "        super(NeuralNetwork, self).__init__()\n",
    "\n",
    "        self.number_of_actions = len(Action)\n",
    "\n",
    "        self.conv1 = nn.Conv1d(4, 32, 8, 4)\n",
    "        self.relu1 = nn.ReLU(inplace=True)\n",
    "        self.conv2 = nn.Conv1d(32, 64, 4, 2)\n",
    "        self.relu2 = nn.ReLU(inplace=True)\n",
    "        self.conv3 = nn.Conv1d(64, 64, 3, 1)\n",
    "        self.relu3 = nn.ReLU(inplace=True)\n",
    "        self.fc4 = nn.Linear(768, 128)\n",
    "        self.relu4 = nn.ReLU(inplace=True)\n",
    "        self.fc5 = nn.Linear(128, self.number_of_actions)\n",
    "    \n",
    "    def forward(self, state):\n",
    "        out = self.conv1(state)\n",
    "        out = self.relu1(out)\n",
    "        print(\"after relu1:\", out.size())\n",
    "        out = self.conv2(out)\n",
    "        out = self.relu2(out)\n",
    "        print(\"after relu2:\", out.size())\n",
    "        out = self.conv3(out)\n",
    "        out = self.relu3(out)\n",
    "        print(\"after relu3:\", out.size())\n",
    "        out = out.view(out.size()[0], -1)\n",
    "        print(\"after view:\", out.size())\n",
    "        out = self.fc4(out)\n",
    "        out = self.relu4(out)\n",
    "        print(\"after relu4:\", out.size())\n",
    "        out = self.fc5(out)\n",
    "        print(\"after fc5:\", out.size())\n",
    "        \n",
    "        return out\n",
    "\n",
    "model = NeuralNetwork()\n",
    "model(state).size()"
   ]
  },
  {
   "cell_type": "code",
   "execution_count": 2,
   "metadata": {},
   "outputs": [],
   "source": [
    "from enum import Enum\n",
    "\n",
    "class Action(Enum):\n",
    "    F = 0  # move forward\n",
    "    B = 1  # move backward\n",
    "    L = 2  # turn left\n",
    "    R = 3  # turn right"
   ]
  },
  {
   "cell_type": "code",
   "execution_count": 10,
   "metadata": {},
   "outputs": [
    {
     "name": "stdout",
     "output_type": "stream",
     "text": [
      "['__class__', '__doc__', '__module__', 'name', 'value']\n",
      "0\n",
      "Parameter containing:\n",
      "tensor([[[ 0.0047, -0.1641, -0.0538,  ..., -0.0954, -0.0990, -0.0877],\n",
      "         [-0.0840,  0.1350,  0.1688,  ..., -0.0282, -0.0970,  0.1693],\n",
      "         [-0.1209,  0.0754, -0.1545,  ..., -0.1021,  0.0978, -0.0595],\n",
      "         [-0.0502,  0.1430, -0.0745,  ..., -0.0411,  0.1041, -0.0612]],\n",
      "\n",
      "        [[ 0.1367, -0.0855,  0.1247,  ...,  0.0351,  0.1226, -0.1367],\n",
      "         [ 0.0168,  0.1543,  0.1717,  ..., -0.0710,  0.1208, -0.1576],\n",
      "         [-0.1007,  0.0202, -0.0026,  ..., -0.0086,  0.0652, -0.0173],\n",
      "         [-0.1136,  0.1209,  0.0709,  ..., -0.0057,  0.0634, -0.1058]],\n",
      "\n",
      "        [[-0.1295,  0.0068,  0.1647,  ...,  0.0642,  0.0166,  0.0668],\n",
      "         [ 0.0136,  0.0108, -0.1441,  ..., -0.1737, -0.0688,  0.0940],\n",
      "         [-0.0483, -0.1551,  0.0859,  ..., -0.0476, -0.0074,  0.0453],\n",
      "         [ 0.0923, -0.1444, -0.0807,  ...,  0.0608, -0.1563,  0.0562]],\n",
      "\n",
      "        ...,\n",
      "\n",
      "        [[ 0.1449, -0.0748, -0.0152,  ...,  0.0940,  0.0509, -0.0125],\n",
      "         [ 0.1055,  0.0633,  0.1221,  ..., -0.0345,  0.0803, -0.0346],\n",
      "         [-0.1595,  0.0741,  0.0148,  ...,  0.0790, -0.0025,  0.0246],\n",
      "         [ 0.1644, -0.0014,  0.1143,  ..., -0.0163, -0.0428,  0.0724]],\n",
      "\n",
      "        [[ 0.0762, -0.0060,  0.0860,  ...,  0.0675, -0.0312,  0.1344],\n",
      "         [-0.0848,  0.0391, -0.1292,  ...,  0.0763, -0.1499, -0.1370],\n",
      "         [-0.1339, -0.0647, -0.1706,  ..., -0.0183, -0.0193, -0.1095],\n",
      "         [-0.1703, -0.1755, -0.0741,  ...,  0.1024, -0.0221, -0.0498]],\n",
      "\n",
      "        [[ 0.0284, -0.1334,  0.1458,  ..., -0.1618,  0.1033,  0.0698],\n",
      "         [-0.0033,  0.1328,  0.1696,  ...,  0.1330, -0.1040, -0.1641],\n",
      "         [ 0.1716,  0.0885,  0.0728,  ...,  0.1558,  0.1527,  0.0196],\n",
      "         [-0.1246,  0.0348,  0.0493,  ..., -0.0499, -0.1516, -0.0337]]],\n",
      "       requires_grad=True)\n"
     ]
    }
   ],
   "source": [
    "print(dir(Action.F))\n",
    "print(Action.F.value)\n",
    "\n",
    "actions = set([Action.F, Action.B])\n",
    "\n",
    "print(model.conv1.bias)"
   ]
  }
 ],
 "metadata": {
  "kernelspec": {
   "display_name": "Python 3",
   "language": "python",
   "name": "python3"
  },
  "language_info": {
   "codemirror_mode": {
    "name": "ipython",
    "version": 3
   },
   "file_extension": ".py",
   "mimetype": "text/x-python",
   "name": "python",
   "nbconvert_exporter": "python",
   "pygments_lexer": "ipython3",
   "version": "3.7.4"
  }
 },
 "nbformat": 4,
 "nbformat_minor": 2
}
