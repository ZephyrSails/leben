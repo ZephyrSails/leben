{
 "cells": [
  {
   "cell_type": "code",
   "execution_count": 8,
   "metadata": {},
   "outputs": [],
   "source": [
    "import torch\n",
    "from torch.nn import functional as F\n",
    "from torch import nn\n",
    "from enum import Enum\n",
    "\n",
    "class Action(Enum):\n",
    "    F = 0  # move forward\n",
    "    B = 1  # move backward\n",
    "    L = 2  # turn left\n",
    "    R = 3  # turn right"
   ]
  },
  {
   "cell_type": "code",
   "execution_count": 9,
   "metadata": {},
   "outputs": [
    {
     "name": "stdout",
     "output_type": "stream",
     "text": [
      "torch.Size([1, 128])\n",
      "torch.Size([1, 4, 128])\n"
     ]
    }
   ],
   "source": [
    "state = torch.cat((torch.randn(126), torch.tensor([4.]), torch.tensor([2.]))).unsqueeze(0)\n",
    "print(state.size())\n",
    "state = torch.cat((state, state, state, state)).unsqueeze(0)\n",
    "print(state.size())"
   ]
  },
  {
   "cell_type": "code",
   "execution_count": 23,
   "metadata": {},
   "outputs": [
    {
     "name": "stdout",
     "output_type": "stream",
     "text": [
      "torch.Size([1, 124])\n",
      "torch.Size([1, 128])\n",
      "torch.Size([1, 4])\n",
      "tensor([[0.2500, 0.2500, 0.2500, 0.2500]])\n"
     ]
    }
   ],
   "source": [
    "class NeuralNetwork(nn.Module):\n",
    "    def __init__(self):\n",
    "        super(NeuralNetwork, self).__init__()\n",
    "\n",
    "        self.number_of_actions = 4\n",
    "        self.gamma = 0.99\n",
    "        self.final_epsilon = 0.001\n",
    "        self.initial_epsilon = 0.2\n",
    "        self.number_of_iterations = 5000000\n",
    "        self.replay_memory_size = 10000\n",
    "        self.minibatch_size = 32\n",
    "\n",
    "        self.conv1 = nn.Conv1d(4, 32, 8, 4)\n",
    "        self.conv2 = nn.Conv1d(32, 64, 4, 2)\n",
    "        self.conv3 = nn.Conv1d(64, 64, 3, 1)\n",
    "        self.fc4 = nn.Linear(768, 124)\n",
    "        self.fc5 = nn.Linear(128, self.number_of_actions)\n",
    "\n",
    "    def forward(self, state):\n",
    "        out = self.conv1(state)\n",
    "        out = F.relu(out, inplace=True)\n",
    "        out = self.conv2(out)\n",
    "        out = F.relu(out, inplace=True)\n",
    "        out = self.conv3(out)\n",
    "        out = F.relu(out, inplace=True)\n",
    "        out = out.view(out.size()[0], -1)\n",
    "        out = self.fc4(out)\n",
    "        out = F.relu(out, inplace=True)\n",
    "        print(out.size())\n",
    "        out = torch.cat((out, torch.rand(1, 4)), 1)\n",
    "        print(out.size())\n",
    "        out = self.fc5(out)\n",
    "\n",
    "        return out\n",
    "\n",
    "model = NeuralNetwork()\n",
    "print(model(state).size())\n",
    "print(torch.tensor([[1 / len(Action)] * len(Action)]))"
   ]
  },
  {
   "cell_type": "code",
   "execution_count": 12,
   "metadata": {},
   "outputs": [],
   "source": [
    "from enum import Enum\n",
    "\n",
    "class Action(Enum):\n",
    "    F = 0  # move forward\n",
    "    B = 1  # move backward\n",
    "    L = 2  # turn left\n",
    "    R = 3  # turn right"
   ]
  },
  {
   "cell_type": "code",
   "execution_count": 11,
   "metadata": {},
   "outputs": [
    {
     "name": "stdout",
     "output_type": "stream",
     "text": [
      "['__class__', '__doc__', '__module__', 'name', 'value']\n",
      "0\n",
      "Parameter containing:\n",
      "tensor([ 0.0011, -0.0539,  0.0991,  0.0382,  0.0016, -0.0093, -0.0991, -0.1109,\n",
      "         0.1437, -0.1277, -0.0713,  0.0245, -0.1525, -0.0072, -0.0262,  0.0492,\n",
      "         0.1679, -0.1761, -0.1389, -0.0786, -0.1415, -0.1092, -0.0264,  0.0418,\n",
      "         0.0436,  0.0524, -0.0246,  0.1265, -0.0470,  0.0014, -0.0489, -0.0264],\n",
      "       requires_grad=True)\n"
     ]
    }
   ],
   "source": [
    "print(dir(Action.F))\n",
    "print(Action.F.value)\n",
    "\n",
    "actions = set([Action.F, Action.B])\n",
    "\n",
    "print(model.conv1.bias)"
   ]
  }
 ],
 "metadata": {
  "kernelspec": {
   "display_name": "Python 3",
   "language": "python",
   "name": "python3"
  },
  "language_info": {
   "codemirror_mode": {
    "name": "ipython",
    "version": 3
   },
   "file_extension": ".py",
   "mimetype": "text/x-python",
   "name": "python",
   "nbconvert_exporter": "python",
   "pygments_lexer": "ipython3",
   "version": "3.7.4"
  }
 },
 "nbformat": 4,
 "nbformat_minor": 2
}
