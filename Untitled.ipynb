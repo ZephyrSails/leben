{
 "cells": [
  {
   "cell_type": "code",
   "execution_count": 2,
   "metadata": {},
   "outputs": [],
   "source": [
    "import torch\n",
    "from torch import nn\n",
    "from enum import Enum\n",
    "\n",
    "class Action(Enum):\n",
    "    F = 0  # move forward\n",
    "    B = 1  # move backward\n",
    "    L = 2  # turn left\n",
    "    R = 3  # turn right"
   ]
  },
  {
   "cell_type": "code",
   "execution_count": 3,
   "metadata": {},
   "outputs": [
    {
     "name": "stdout",
     "output_type": "stream",
     "text": [
      "torch.Size([1, 128])\n",
      "torch.Size([1, 4, 128])\n"
     ]
    }
   ],
   "source": [
    "state = torch.cat((torch.randn(126), torch.tensor([4.]), torch.tensor([2.]))).unsqueeze(0)\n",
    "print(state.size())\n",
    "state = torch.cat((state, state, state, state)).unsqueeze(0)\n",
    "print(state.size())"
   ]
  },
  {
   "cell_type": "code",
   "execution_count": 45,
   "metadata": {},
   "outputs": [
    {
     "name": "stdout",
     "output_type": "stream",
     "text": [
      "after relu1: torch.Size([1, 32, 31])\n",
      "after relu2: torch.Size([1, 64, 14])\n",
      "after relu3: torch.Size([1, 64, 12])\n",
      "after view: torch.Size([1, 768])\n",
      "after relu4: torch.Size([1, 128])\n",
      "after fc5: torch.Size([1, 4])\n"
     ]
    },
    {
     "data": {
      "text/plain": [
       "torch.Size([1, 4])"
      ]
     },
     "execution_count": 45,
     "metadata": {},
     "output_type": "execute_result"
    }
   ],
   "source": [
    "class NeuralNetwork(nn.Module):\n",
    "    def __init__(self):\n",
    "        super(NeuralNetwork, self).__init__()\n",
    "\n",
    "        self.number_of_actions = len(Action)\n",
    "\n",
    "        self.conv1 = nn.Conv1d(4, 32, 8, 4)\n",
    "        self.relu1 = nn.ReLU(inplace=True)\n",
    "        self.conv2 = nn.Conv1d(32, 64, 4, 2)\n",
    "        self.relu2 = nn.ReLU(inplace=True)\n",
    "        self.conv3 = nn.Conv1d(64, 64, 3, 1)\n",
    "        self.relu3 = nn.ReLU(inplace=True)\n",
    "        self.fc4 = nn.Linear(768, 128)\n",
    "        self.relu4 = nn.ReLU(inplace=True)\n",
    "        self.fc5 = nn.Linear(128, self.number_of_actions)\n",
    "    \n",
    "    def forward(self, state):\n",
    "        out = self.conv1(state)\n",
    "        out = self.relu1(out)\n",
    "        print(\"after relu1:\", out.size())\n",
    "        out = self.conv2(out)\n",
    "        out = self.relu2(out)\n",
    "        print(\"after relu2:\", out.size())\n",
    "        out = self.conv3(out)\n",
    "        out = self.relu3(out)\n",
    "        print(\"after relu3:\", out.size())\n",
    "        out = out.view(out.size()[0], -1)\n",
    "        print(\"after view:\", out.size())\n",
    "        out = self.fc4(out)\n",
    "        out = self.relu4(out)\n",
    "        print(\"after relu4:\", out.size())\n",
    "        out = self.fc5(out)\n",
    "        print(\"after fc5:\", out.size())\n",
    "        \n",
    "        return out\n",
    "\n",
    "model = NeuralNetwork()\n",
    "model(state).size()"
   ]
  },
  {
   "cell_type": "code",
   "execution_count": null,
   "metadata": {},
   "outputs": [],
   "source": []
  }
 ],
 "metadata": {
  "kernelspec": {
   "display_name": "Python 3",
   "language": "python",
   "name": "python3"
  },
  "language_info": {
   "codemirror_mode": {
    "name": "ipython",
    "version": 3
   },
   "file_extension": ".py",
   "mimetype": "text/x-python",
   "name": "python",
   "nbconvert_exporter": "python",
   "pygments_lexer": "ipython3",
   "version": "3.7.4"
  }
 },
 "nbformat": 4,
 "nbformat_minor": 2
}
